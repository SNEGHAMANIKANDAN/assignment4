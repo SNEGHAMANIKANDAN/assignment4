{
 "cells": [
  {
   "cell_type": "markdown",
   "id": "11033b05",
   "metadata": {},
   "source": [
    "Write a Python program to create a lambda function that adds 25 to a given number passed in as an argument.\n",
    "\n",
    "\n",
    "\n",
    "sample input: 10\n",
    "\n",
    "sample output: 35"
   ]
  },
  {
   "cell_type": "code",
   "execution_count": 8,
   "id": "d23f1cb2",
   "metadata": {},
   "outputs": [
    {
     "name": "stdout",
     "output_type": "stream",
     "text": [
      "Enter the number you want to add with 25\n",
      "10\n",
      "The given input is 10\n",
      "The output by adding 10 to 25 is 35\n"
     ]
    }
   ],
   "source": [
    "a= 25\n",
    "print(\"Enter the number you want to add with 25\")\n",
    "b= int(input())\n",
    "print(\"The given input is\", b)\n",
    "out=(lambda x: a+x)(b)\n",
    "print(f'The output by adding {b} to 25 is',out)"
   ]
  },
  {
   "cell_type": "code",
   "execution_count": null,
   "id": "df0884c9",
   "metadata": {},
   "outputs": [],
   "source": []
  }
 ],
 "metadata": {
  "kernelspec": {
   "display_name": "Python 3 (ipykernel)",
   "language": "python",
   "name": "python3"
  },
  "language_info": {
   "codemirror_mode": {
    "name": "ipython",
    "version": 3
   },
   "file_extension": ".py",
   "mimetype": "text/x-python",
   "name": "python",
   "nbconvert_exporter": "python",
   "pygments_lexer": "ipython3",
   "version": "3.10.1"
  }
 },
 "nbformat": 4,
 "nbformat_minor": 5
}
