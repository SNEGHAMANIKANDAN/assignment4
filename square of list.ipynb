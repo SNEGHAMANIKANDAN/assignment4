{
 "cells": [
  {
   "cell_type": "markdown",
   "id": "99108949",
   "metadata": {},
   "source": [
    "Write a Python program to square the elements of a list using map() function.\n",
    "\n",
    "\n",
    "\n",
    "Sample List: [4, 5, 2, 9]\n",
    "\n",
    "Square the elements of the list:\n",
    "\n",
    "[16, 25, 4, 81]\n",
    "\n"
   ]
  },
  {
   "cell_type": "code",
   "execution_count": 3,
   "id": "ad88ec89",
   "metadata": {},
   "outputs": [
    {
     "name": "stdout",
     "output_type": "stream",
     "text": [
      "enter the list of numbers one at a time\n",
      "to stop giving input press 'q'\n",
      "1\n",
      "2\n",
      "3\n",
      "4\n",
      "6\n",
      "7\n",
      "9\n",
      "q\n",
      "[1, 4, 9, 16, 36, 49, 81]\n"
     ]
    }
   ],
   "source": [
    "l=[]\n",
    "print(\"enter the list of numbers one at a time\")\n",
    "print(\"to stop giving input press 'q'\")\n",
    "while 1:\n",
    "    a=input()\n",
    "    if a == \"q\":\n",
    "        break\n",
    "    else:\n",
    "        l.append(int(a))\n",
    "        \n",
    "print (\"the given list of numbers is \",l)\n",
    "print(\"The square of the elements of the \")\n",
    "print(list(map(lambda x:x**2,l)))"
   ]
  },
  {
   "cell_type": "code",
   "execution_count": null,
   "id": "88720498",
   "metadata": {},
   "outputs": [],
   "source": []
  }
 ],
 "metadata": {
  "kernelspec": {
   "display_name": "Python 3 (ipykernel)",
   "language": "python",
   "name": "python3"
  },
  "language_info": {
   "codemirror_mode": {
    "name": "ipython",
    "version": 3
   },
   "file_extension": ".py",
   "mimetype": "text/x-python",
   "name": "python",
   "nbconvert_exporter": "python",
   "pygments_lexer": "ipython3",
   "version": "3.10.1"
  }
 },
 "nbformat": 4,
 "nbformat_minor": 5
}
