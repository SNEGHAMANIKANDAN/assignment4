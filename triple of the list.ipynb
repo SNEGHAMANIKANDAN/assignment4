{
 "cells": [
  {
   "cell_type": "markdown",
   "id": "3c497e94",
   "metadata": {},
   "source": [
    "Write a Python program to triple all numbers of a given list of integers. Use Python map.\n",
    "\n",
    "\n",
    "\n",
    "sample list: [1, 2, 3, 4, 5, 6, 7]\n",
    "\n",
    "\n",
    "\n",
    "Triple of list numbers:\n",
    "\n",
    "[3, 6, 9, 12, 15, 18, 21]"
   ]
  },
  {
   "cell_type": "code",
   "execution_count": 6,
   "id": "5f7a723a",
   "metadata": {},
   "outputs": [
    {
     "name": "stdout",
     "output_type": "stream",
     "text": [
      "enter the list of numbers one at a time\n",
      "to stop giving input press 'q'\n",
      "1\n",
      "2\n",
      "3\n",
      "4\n",
      "5\n",
      "6\n",
      "7\n",
      "q\n",
      "The given list is [1, 2, 3, 4, 5, 6, 7]\n",
      "The triple of the list of the numbers is\n",
      "[3, 6, 9, 12, 15, 18, 21]\n"
     ]
    }
   ],
   "source": [
    "l=[]\n",
    "print(\"enter the list of numbers one at a time\")\n",
    "print(\"to stop giving input press 'q'\")\n",
    "while 1:\n",
    "    a=input()\n",
    "    if a == \"q\":\n",
    "        break\n",
    "    else:\n",
    "        l.append(int(a))\n",
    "        \n",
    "print (\"The given list is\\n\",l)\n",
    "print(\"The triple of the list of the numbers is\")\n",
    "print(list(map(lambda x: x*3 , l)))"
   ]
  },
  {
   "cell_type": "code",
   "execution_count": null,
   "id": "5d72f678",
   "metadata": {},
   "outputs": [],
   "source": []
  }
 ],
 "metadata": {
  "kernelspec": {
   "display_name": "Python 3 (ipykernel)",
   "language": "python",
   "name": "python3"
  },
  "language_info": {
   "codemirror_mode": {
    "name": "ipython",
    "version": 3
   },
   "file_extension": ".py",
   "mimetype": "text/x-python",
   "name": "python",
   "nbconvert_exporter": "python",
   "pygments_lexer": "ipython3",
   "version": "3.10.1"
  }
 },
 "nbformat": 4,
 "nbformat_minor": 5
}
